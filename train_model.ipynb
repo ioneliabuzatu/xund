{
 "cells": [
  {
   "cell_type": "markdown",
   "id": "45d3c870",
   "metadata": {
    "pycharm": {
     "name": "#%% md\n"
    }
   },
   "source": [
    "# Named Entity Recognition Experiment"
   ]
  },
  {
   "cell_type": "code",
   "execution_count": 3,
   "id": "de4bc80a",
   "metadata": {
    "collapsed": false,
    "jupyter": {
     "outputs_hidden": false
    },
    "pycharm": {
     "name": "#%%\n"
    },
    "tags": []
   },
   "outputs": [],
   "source": [
    "import pandas as pd\n",
    "import torch\n",
    "from torch.utils.data import DataLoader, Dataset\n",
    "from transformers import BertTokenizerFast, BertForTokenClassification"
   ]
  },
  {
   "cell_type": "code",
   "execution_count": 53,
   "id": "39bd3527-1830-412a-b08c-0f2e9a4d77c8",
   "metadata": {
    "tags": []
   },
   "outputs": [],
   "source": [
    "import modin.pandas as pd_modin\n",
    "import time\n",
    "import os\n",
    "import matplotlib.pyplot as plt\n",
    "import numpy as np\n",
    "os.environ['MODIN_ENGINE'] = 'dask'"
   ]
  },
  {
   "cell_type": "markdown",
   "id": "0c4f5308",
   "metadata": {
    "pycharm": {
     "name": "#%% md\n"
    }
   },
   "source": [
    "## Load dataset\n",
    "\n",
    "Load text dataset with entity tags\n",
    "\n",
    "\n",
    "<span style=\"color:red;\">**modifications**</span>"
   ]
  },
  {
   "cell_type": "code",
   "execution_count": 33,
   "id": "90ea48c5-42fb-4d87-9d0f-c90f34e4550d",
   "metadata": {
    "tags": []
   },
   "outputs": [],
   "source": [
    "dataset = pd.read_csv(\"ner.csv\")"
   ]
  },
  {
   "cell_type": "code",
   "execution_count": 34,
   "id": "3ef5c259-46e1-4575-94ee-29957a262062",
   "metadata": {
    "collapsed": false,
    "jupyter": {
     "outputs_hidden": false
    },
    "pycharm": {
     "name": "#%%\n"
    },
    "tags": []
   },
   "outputs": [],
   "source": [
    "dataset[\"Sentence #\"] = dataset[\"Sentence #\"].fillna(method='ffill')\n",
    "sentences, targets = [], []\n",
    "for sent_i, x in dataset.groupby(\"Sentence #\"):\n",
    "    words = x[\"Word\"].tolist()\n",
    "    tags = x[\"Tag\"].tolist()\n",
    "    sentences.append(words)\n",
    "    targets.append(tags)"
   ]
  },
  {
   "cell_type": "markdown",
   "id": "fe04a0b5",
   "metadata": {
    "pycharm": {
     "name": "#%% md\n"
    }
   },
   "source": [
    "Number of sentences in dataset"
   ]
  },
  {
   "cell_type": "code",
   "execution_count": 44,
   "id": "592e737e-1075-4176-82ac-a826b16698dc",
   "metadata": {
    "tags": []
   },
   "outputs": [
    {
     "data": {
      "text/plain": [
       "O        423645\n",
       "B-geo     17839\n",
       "B-tim      9563\n",
       "B-org      9453\n",
       "I-per      8354\n",
       "B-per      8106\n",
       "I-org      7791\n",
       "B-gpe      7695\n",
       "I-geo      3583\n",
       "I-tim      3044\n",
       "B-art       203\n",
       "B-eve       181\n",
       "I-art       155\n",
       "I-eve       145\n",
       "B-nat       105\n",
       "I-gpe       103\n",
       "I-nat        34\n",
       "Name: Tag, dtype: int64"
      ]
     },
     "execution_count": 44,
     "metadata": {},
     "output_type": "execute_result"
    }
   ],
   "source": [
    "tag_counts"
   ]
  },
  {
   "cell_type": "code",
   "execution_count": 46,
   "id": "2b48d414-6895-4d50-ad3a-f1a633c297d5",
   "metadata": {
    "tags": []
   },
   "outputs": [
    {
     "data": {
      "text/plain": [
       "17"
      ]
     },
     "execution_count": 46,
     "metadata": {},
     "output_type": "execute_result"
    }
   ],
   "source": [
    "dataset.Tag.nunique()"
   ]
  },
  {
   "cell_type": "code",
   "execution_count": 42,
   "id": "8d1fe25e",
   "metadata": {
    "collapsed": false,
    "jupyter": {
     "outputs_hidden": false
    },
    "pycharm": {
     "name": "#%%\n"
    },
    "tags": []
   },
   "outputs": [
    {
     "data": {
      "text/plain": [
       "(22862, 22862)"
      ]
     },
     "execution_count": 42,
     "metadata": {},
     "output_type": "execute_result"
    }
   ],
   "source": [
    "len(sentences), len(targets)"
   ]
  },
  {
   "cell_type": "code",
   "execution_count": 39,
   "id": "fcef7b27-477e-4851-a3f7-abdd428e9b53",
   "metadata": {
    "tags": []
   },
   "outputs": [
    {
     "data": {
      "image/png": "[encoded data removed]",
      "text/plain": [
       "<Figure size 864x432 with 1 Axes>"
      ]
     },
     "metadata": {
      "needs_background": "light"
     },
     "output_type": "display_data"
    }
   ],
   "source": [
    "tag_counts = dataset['Tag'].value_counts()\n",
    "\n",
    "plt.figure(figsize=(12, 6))\n",
    "tag_counts.plot(kind='bar')\n",
    "plt.title('Class Distribution in Dataset')\n",
    "plt.xlabel('NER Tags')\n",
    "plt.ylabel('Count')\n",
    "plt.xticks(rotation=45)\n",
    "plt.tight_layout()\n",
    "plt.show()"
   ]
  },
  {
   "cell_type": "markdown",
   "id": "36d3373f",
   "metadata": {
    "pycharm": {
     "name": "#%% md\n"
    }
   },
   "source": [
    "### Text encoding\n",
    "\n",
    "Convert each word into subwords and their respective subword ids such that Bert can work with the words"
   ]
  },
  {
   "cell_type": "markdown",
   "id": "d3bca7a3-59a3-4fec-8281-d18be0927e28",
   "metadata": {},
   "source": [
    "<span>**modifications**</span>\n",
    "\n",
    "- look up attention values by setting `output_attentions=True` - useful for explananibility later on"
   ]
  },
  {
   "cell_type": "code",
   "execution_count": 69,
   "id": "566b85f4",
   "metadata": {
    "collapsed": false,
    "jupyter": {
     "outputs_hidden": false
    },
    "pycharm": {
     "name": "#%%\n"
    },
    "tags": []
   },
   "outputs": [],
   "source": [
    "# tokenize words\n",
    "PRETRAINED = \"prajjwal1/bert-tiny\"\n",
    "tokenizer = BertTokenizerFast.from_pretrained(PRETRAINED, output_attentions=True) \n",
    "sentences_encoded = tokenizer(\n",
    "    sentences, is_split_into_words=True, return_tensors=\"pt\", padding=True, truncation=True, max_length=150, add_special_tokens=False\n",
    ");"
   ]
  },
  {
   "cell_type": "code",
   "execution_count": 48,
   "id": "b846e80d",
   "metadata": {
    "collapsed": false,
    "jupyter": {
     "outputs_hidden": false
    },
    "pycharm": {
     "name": "#%%\n"
    },
    "tags": []
   },
   "outputs": [
    {
     "data": {
      "text/plain": [
       "torch.Size([22862, 150])"
      ]
     },
     "execution_count": 48,
     "metadata": {},
     "output_type": "execute_result"
    }
   ],
   "source": [
    "sentences_encoded[\"input_ids\"].shape"
   ]
  },
  {
   "cell_type": "markdown",
   "id": "c7319a81",
   "metadata": {
    "pycharm": {
     "name": "#%% md\n"
    }
   },
   "source": [
    "### Target encoding\n",
    "\n",
    "Convert the NER tags into tensors such that Bert can work with them"
   ]
  },
  {
   "cell_type": "code",
   "execution_count": 70,
   "id": "b1b0639c",
   "metadata": {
    "collapsed": false,
    "jupyter": {
     "outputs_hidden": false
    },
    "pycharm": {
     "name": "#%%\n"
    },
    "tags": []
   },
   "outputs": [
    {
     "data": {
      "text/plain": [
       "{'I-tim': 0,\n",
       " 'I-gpe': 1,\n",
       " 'I-org': 2,\n",
       " 'I-per': 3,\n",
       " 'B-org': 4,\n",
       " 'I-nat': 5,\n",
       " 'I-geo': 6,\n",
       " 'O': 7,\n",
       " 'B-tim': 8,\n",
       " 'B-geo': 9,\n",
       " 'B-gpe': 10,\n",
       " 'B-nat': 11,\n",
       " 'I-eve': 12,\n",
       " 'B-art': 13,\n",
       " 'I-art': 14,\n",
       " 'B-per': 15,\n",
       " 'B-eve': 16}"
      ]
     },
     "execution_count": 70,
     "metadata": {},
     "output_type": "execute_result"
    }
   ],
   "source": [
    "# mapping from ner tag to number\n",
    "tag2idx = {tag: i for i, tag in enumerate(set(t for ts in targets for t in ts))}\n",
    "tag2idx"
   ]
  },
  {
   "cell_type": "markdown",
   "id": "3a5e34bc",
   "metadata": {
    "pycharm": {
     "name": "#%% md\n"
    }
   },
   "source": [
    "Pad the target tensors because sentences have different length"
   ]
  },
  {
   "cell_type": "code",
   "execution_count": 71,
   "id": "65c30cc0",
   "metadata": {
    "collapsed": false,
    "jupyter": {
     "outputs_hidden": false
    },
    "pycharm": {
     "name": "#%%\n"
    },
    "tags": []
   },
   "outputs": [
    {
     "data": {
      "text/plain": [
       "torch.Size([22862, 150])"
      ]
     },
     "execution_count": 71,
     "metadata": {},
     "output_type": "execute_result"
    }
   ],
   "source": [
    "max_len = sentences_encoded[\"input_ids\"].shape[1]\n",
    "targets_encoded = torch.empty((0, max_len), dtype=torch.long)\n",
    "\n",
    "for sent_idx, target in enumerate(targets):\n",
    "    enc = torch.full(size=(max_len,), fill_value=tag2idx['O'], dtype=torch.long)\n",
    "    # repeat ner tag for each subword\n",
    "    for word_idx, tag in enumerate(target):\n",
    "        span = sentences_encoded.word_to_tokens(sent_idx, word_idx)\n",
    "        # ignore words that tokenizer did not understand e.g. special characters\n",
    "        if span is not None:\n",
    "            start, end = span\n",
    "            enc[start:end] = tag2idx[tag]\n",
    "    targets_encoded = torch.vstack((targets_encoded, enc))\n",
    "\n",
    "targets_encoded.shape"
   ]
  },
  {
   "cell_type": "markdown",
   "id": "3055220a",
   "metadata": {
    "pycharm": {
     "name": "#%% md\n"
    }
   },
   "source": [
    "Show the first sample and its target tensor"
   ]
  },
  {
   "cell_type": "code",
   "execution_count": 72,
   "id": "a2d815b5",
   "metadata": {
    "collapsed": false,
    "jupyter": {
     "outputs_hidden": false
    },
    "pycharm": {
     "name": "#%%\n"
    },
    "tags": []
   },
   "outputs": [
    {
     "data": {
      "text/plain": [
       "'thousands of demonstrators have marched through london to protest the war in iraq and demand the withdrawal of british troops from that country. [PAD] [PAD] [PAD] [PAD] [PAD] [PAD] [PAD] [PAD] [PAD] [PAD] [PAD] [PAD] [PAD] [PAD] [PAD] [PAD] [PAD] [PAD] [PAD] [PAD] [PAD] [PAD] [PAD] [PAD] [PAD] [PAD] [PAD] [PAD] [PAD] [PAD] [PAD] [PAD] [PAD] [PAD] [PAD] [PAD] [PAD] [PAD] [PAD] [PAD] [PAD] [PAD] [PAD] [PAD] [PAD] [PAD] [PAD] [PAD] [PAD] [PAD] [PAD] [PAD] [PAD] [PAD] [PAD] [PAD] [PAD] [PAD] [PAD] [PAD] [PAD] [PAD] [PAD] [PAD] [PAD] [PAD] [PAD] [PAD] [PAD] [PAD] [PAD] [PAD] [PAD] [PAD] [PAD] [PAD] [PAD] [PAD] [PAD] [PAD] [PAD] [PAD] [PAD] [PAD] [PAD] [PAD] [PAD] [PAD] [PAD] [PAD] [PAD] [PAD] [PAD] [PAD] [PAD] [PAD] [PAD] [PAD] [PAD] [PAD] [PAD] [PAD] [PAD] [PAD] [PAD] [PAD] [PAD] [PAD] [PAD] [PAD] [PAD] [PAD] [PAD] [PAD] [PAD] [PAD] [PAD] [PAD] [PAD] [PAD] [PAD] [PAD] [PAD] [PAD] [PAD] [PAD]'"
      ]
     },
     "execution_count": 72,
     "metadata": {},
     "output_type": "execute_result"
    }
   ],
   "source": [
    "tokenizer.decode(sentences_encoded[\"input_ids\"][0])"
   ]
  },
  {
   "cell_type": "code",
   "execution_count": 73,
   "id": "a7f04998",
   "metadata": {
    "collapsed": false,
    "jupyter": {
     "outputs_hidden": false
    },
    "pycharm": {
     "name": "#%%\n"
    },
    "tags": []
   },
   "outputs": [
    {
     "data": {
      "text/plain": [
       "tensor([[ 7,  7,  7,  7,  7,  7,  9,  7,  7,  7,  7,  7,  9,  7,  7,  7,  7,  7,\n",
       "         10,  7,  7,  7,  7,  7,  7,  7,  7,  7,  7,  7,  7,  7,  7,  7,  7,  7,\n",
       "          7,  7,  7,  7,  7,  7,  7,  7,  7,  7,  7,  7,  7,  7,  7,  7,  7,  7,\n",
       "          7,  7,  7,  7,  7,  7,  7,  7,  7,  7,  7,  7,  7,  7,  7,  7,  7,  7,\n",
       "          7,  7,  7,  7,  7,  7,  7,  7,  7,  7,  7,  7,  7,  7,  7,  7,  7,  7,\n",
       "          7,  7,  7,  7,  7,  7,  7,  7,  7,  7,  7,  7,  7,  7,  7,  7,  7,  7,\n",
       "          7,  7,  7,  7,  7,  7,  7,  7,  7,  7,  7,  7,  7,  7,  7,  7,  7,  7,\n",
       "          7,  7,  7,  7,  7,  7,  7,  7,  7,  7,  7,  7,  7,  7,  7,  7,  7,  7,\n",
       "          7,  7,  7,  7,  7,  7]])"
      ]
     },
     "execution_count": 73,
     "metadata": {},
     "output_type": "execute_result"
    }
   ],
   "source": [
    "targets_encoded[:1]"
   ]
  },
  {
   "cell_type": "markdown",
   "id": "d116fdbb",
   "metadata": {
    "pycharm": {
     "name": "#%% md\n"
    }
   },
   "source": [
    "### Train/Test split\n",
    "\n",
    "Split dataset into training and test set\n",
    "\n",
    "\n",
    "<span style=\"color:red;\">**modifications**</span>"
   ]
  },
  {
   "cell_type": "code",
   "execution_count": 74,
   "id": "13c82a27",
   "metadata": {
    "collapsed": false,
    "jupyter": {
     "outputs_hidden": false
    },
    "pycharm": {
     "name": "#%%\n"
    },
    "tags": []
   },
   "outputs": [
    {
     "data": {
      "text/plain": [
       "('Train sentences: 18289', 'Test sentences: 4572')"
      ]
     },
     "execution_count": 74,
     "metadata": {},
     "output_type": "execute_result"
    }
   ],
   "source": [
    "train_size = int(0.8 * len(sentences_encoded.input_ids))\n",
    "test_size = int(0.2 * len(sentences_encoded.input_ids))\n",
    "train_sentences = sentences_encoded[:train_size]\n",
    "train_targets = targets_encoded[:train_size]\n",
    "test_sentences = sentences_encoded[train_size:train_size+test_size]\n",
    "test_targets = targets_encoded[train_size:train_size+test_size]\n",
    "(f\"Train sentences: {len(train_targets)}\", f\"Test sentences: {len(test_targets)}\")"
   ]
  },
  {
   "cell_type": "code",
   "execution_count": 75,
   "id": "03259852",
   "metadata": {
    "collapsed": false,
    "jupyter": {
     "outputs_hidden": false
    },
    "pycharm": {
     "name": "#%%\n"
    },
    "tags": []
   },
   "outputs": [],
   "source": [
    "class NERDataset(Dataset):\n",
    "    def __init__(self, sentences, labels):\n",
    "        self.sentences = sentences\n",
    "        self.labels = labels\n",
    "\n",
    "    def __getitem__(self, index):\n",
    "        ids = torch.tensor(self.sentences[index].ids)\n",
    "        mask = torch.tensor(self.sentences[index].attention_mask)\n",
    "        labels = self.labels[index].clone()\n",
    "\n",
    "        return {\n",
    "            'ids': ids,\n",
    "            'mask': mask,\n",
    "            'tags': labels\n",
    "        }\n",
    "\n",
    "    def __len__(self):\n",
    "        return len(self.labels)\n",
    "\n",
    "training_set = NERDataset(train_sentences, train_targets)\n",
    "testing_set = NERDataset(test_sentences, test_targets)\n",
    "\n",
    "training_loader = DataLoader(training_set, batch_size=16, shuffle=True)\n",
    "testing_loader = DataLoader(testing_set, batch_size=16, shuffle=True)"
   ]
  },
  {
   "cell_type": "markdown",
   "id": "91c15201",
   "metadata": {
    "pycharm": {
     "name": "#%% md\n"
    }
   },
   "source": [
    "## Train model"
   ]
  },
  {
   "cell_type": "markdown",
   "id": "3c0dfbb1",
   "metadata": {
    "pycharm": {
     "name": "#%% md\n"
    }
   },
   "source": [
    "Load a pretrained Bert model to fine-tune for multi-class classification of NER tags"
   ]
  },
  {
   "cell_type": "markdown",
   "id": "ec074eb9-e78d-4c7b-9c3c-3593abfa4530",
   "metadata": {
    "tags": []
   },
   "source": [
    "<span style=\"color:red;\">**modifications**</span>\n",
    "\n",
    "\n",
    "- use numpy array of list for speed and resources optimization - look up here link why ()\n",
    "- slit data into train/val/test\n",
    "- use cross validation - if data is not much\n"
   ]
  },
  {
   "cell_type": "code",
   "execution_count": 95,
   "id": "57a4797e",
   "metadata": {
    "collapsed": false,
    "jupyter": {
     "outputs_hidden": false
    },
    "pycharm": {
     "name": "#%%\n"
    },
    "tags": []
   },
   "outputs": [
    {
     "name": "stderr",
     "output_type": "stream",
     "text": [
      "Some weights of the model checkpoint at prajjwal1/bert-tiny were not used when initializing BertForTokenClassification: ['cls.predictions.transform.LayerNorm.weight', 'cls.predictions.bias', 'cls.seq_relationship.weight', 'cls.predictions.decoder.bias', 'cls.predictions.transform.dense.weight', 'cls.predictions.decoder.weight', 'cls.seq_relationship.bias', 'cls.predictions.transform.dense.bias', 'cls.predictions.transform.LayerNorm.bias']\n",
      "- This IS expected if you are initializing BertForTokenClassification from the checkpoint of a model trained on another task or with another architecture (e.g. initializing a BertForSequenceClassification model from a BertForPreTraining model).\n",
      "- This IS NOT expected if you are initializing BertForTokenClassification from the checkpoint of a model that you expect to be exactly identical (initializing a BertForSequenceClassification model from a BertForSequenceClassification model).\n",
      "Some weights of BertForTokenClassification were not initialized from the model checkpoint at prajjwal1/bert-tiny and are newly initialized: ['classifier.weight', 'classifier.bias']\n",
      "You should probably TRAIN this model on a down-stream task to be able to use it for predictions and inference.\n"
     ]
    }
   ],
   "source": [
    "device = torch.device(\"cuda\") if torch.cuda.is_available() else torch.device(\"cpu\")\n",
    "model = BertForTokenClassification.from_pretrained(PRETRAINED, num_labels=len(tag2idx), output_attentions=True, output_hidden_states=True)\n",
    "model = model.to(device)\n",
    "optimizer = torch.optim.Adam(params=model.parameters(), lr=2e-05)"
   ]
  },
  {
   "cell_type": "code",
   "execution_count": 96,
   "id": "9b9005f9",
   "metadata": {
    "collapsed": false,
    "jupyter": {
     "outputs_hidden": false
    },
    "pycharm": {
     "name": "#%%\n"
    },
    "tags": []
   },
   "outputs": [
    {
     "name": "stdout",
     "output_type": "stream",
     "text": [
      "Epoch: 1 - train_loss: 0.4944019034127151\n",
      "Epoch: 2 - train_loss: 0.13121548754495235\n"
     ]
    }
   ],
   "source": [
    "# training loop\n",
    "for epoch in range(1, 3):\n",
    "    epoch_train_losses = np.zeros(shape=len(training_loader))\n",
    "    model.train()\n",
    "    for i, data in enumerate(training_loader, 0):\n",
    "        data = {k: v.to(device) for k, v in data.items()}\n",
    "        output = model(data[\"ids\"], attention_mask=data[\"mask\"], labels=data[\"tags\"])\n",
    "        loss = output[0]\n",
    "        loss.backward()\n",
    "        optimizer.step()\n",
    "        optimizer.zero_grad()\n",
    "\n",
    "        epoch_train_losses[i] = loss.detach().cpu().item()\n",
    "\n",
    "   \n",
    "    print(f\"Epoch: {epoch} - train_loss: {epoch_train_losses.mean()}\")"
   ]
  },
  {
   "cell_type": "markdown",
   "id": "d9cb3d25",
   "metadata": {
    "pycharm": {
     "name": "#%% md\n"
    }
   },
   "source": [
    "## Test model\n",
    "\n",
    "Compute classification metric of Bert model on test set\n",
    "\n",
    "\n",
    "<span style=\"color:red;\">**modifications**</span>"
   ]
  },
  {
   "cell_type": "code",
   "execution_count": 94,
   "id": "72dd228e",
   "metadata": {
    "collapsed": false,
    "jupyter": {
     "outputs_hidden": false
    },
    "pycharm": {
     "name": "#%%\n"
    },
    "tags": []
   },
   "outputs": [
    {
     "name": "stdout",
     "output_type": "stream",
     "text": [
      "odict_keys(['loss', 'logits'])\n",
      "odict_keys(['loss', 'logits'])\n",
      "odict_keys(['loss', 'logits'])\n",
      "odict_keys(['loss', 'logits'])\n",
      "odict_keys(['loss', 'logits'])\n",
      "odict_keys(['loss', 'logits'])\n",
      "odict_keys(['loss', 'logits'])\n",
      "odict_keys(['loss', 'logits'])\n",
      "odict_keys(['loss', 'logits'])\n",
      "odict_keys(['loss', 'logits'])\n",
      "odict_keys(['loss', 'logits'])\n",
      "odict_keys(['loss', 'logits'])\n",
      "odict_keys(['loss', 'logits'])\n",
      "odict_keys(['loss', 'logits'])\n",
      "odict_keys(['loss', 'logits'])\n",
      "odict_keys(['loss', 'logits'])\n",
      "odict_keys(['loss', 'logits'])\n",
      "odict_keys(['loss', 'logits'])\n",
      "odict_keys(['loss', 'logits'])\n",
      "odict_keys(['loss', 'logits'])\n",
      "odict_keys(['loss', 'logits'])\n",
      "odict_keys(['loss', 'logits'])\n",
      "odict_keys(['loss', 'logits'])\n",
      "odict_keys(['loss', 'logits'])\n",
      "odict_keys(['loss', 'logits'])\n",
      "odict_keys(['loss', 'logits'])\n",
      "odict_keys(['loss', 'logits'])\n",
      "odict_keys(['loss', 'logits'])\n",
      "odict_keys(['loss', 'logits'])\n",
      "odict_keys(['loss', 'logits'])\n",
      "odict_keys(['loss', 'logits'])\n",
      "odict_keys(['loss', 'logits'])\n",
      "odict_keys(['loss', 'logits'])\n",
      "odict_keys(['loss', 'logits'])\n",
      "odict_keys(['loss', 'logits'])\n",
      "odict_keys(['loss', 'logits'])\n",
      "odict_keys(['loss', 'logits'])\n",
      "odict_keys(['loss', 'logits'])\n",
      "odict_keys(['loss', 'logits'])\n",
      "odict_keys(['loss', 'logits'])\n",
      "odict_keys(['loss', 'logits'])\n",
      "odict_keys(['loss', 'logits'])\n",
      "odict_keys(['loss', 'logits'])\n",
      "odict_keys(['loss', 'logits'])\n",
      "odict_keys(['loss', 'logits'])\n",
      "odict_keys(['loss', 'logits'])\n",
      "odict_keys(['loss', 'logits'])\n",
      "odict_keys(['loss', 'logits'])\n",
      "odict_keys(['loss', 'logits'])\n",
      "odict_keys(['loss', 'logits'])\n",
      "odict_keys(['loss', 'logits'])\n",
      "odict_keys(['loss', 'logits'])\n",
      "odict_keys(['loss', 'logits'])\n",
      "odict_keys(['loss', 'logits'])\n",
      "odict_keys(['loss', 'logits'])\n",
      "odict_keys(['loss', 'logits'])\n",
      "odict_keys(['loss', 'logits'])\n",
      "odict_keys(['loss', 'logits'])\n",
      "odict_keys(['loss', 'logits'])\n",
      "odict_keys(['loss', 'logits'])\n",
      "odict_keys(['loss', 'logits'])\n",
      "odict_keys(['loss', 'logits'])\n",
      "odict_keys(['loss', 'logits'])\n",
      "odict_keys(['loss', 'logits'])\n",
      "odict_keys(['loss', 'logits'])\n",
      "odict_keys(['loss', 'logits'])\n",
      "odict_keys(['loss', 'logits'])\n",
      "odict_keys(['loss', 'logits'])\n",
      "odict_keys(['loss', 'logits'])\n",
      "odict_keys(['loss', 'logits'])\n",
      "odict_keys(['loss', 'logits'])\n",
      "odict_keys(['loss', 'logits'])\n",
      "odict_keys(['loss', 'logits'])\n",
      "odict_keys(['loss', 'logits'])\n",
      "odict_keys(['loss', 'logits'])\n",
      "odict_keys(['loss', 'logits'])\n",
      "odict_keys(['loss', 'logits'])\n",
      "odict_keys(['loss', 'logits'])\n",
      "odict_keys(['loss', 'logits'])\n",
      "odict_keys(['loss', 'logits'])\n",
      "odict_keys(['loss', 'logits'])\n",
      "odict_keys(['loss', 'logits'])\n",
      "odict_keys(['loss', 'logits'])\n",
      "odict_keys(['loss', 'logits'])\n",
      "odict_keys(['loss', 'logits'])\n",
      "odict_keys(['loss', 'logits'])\n",
      "odict_keys(['loss', 'logits'])\n",
      "odict_keys(['loss', 'logits'])\n",
      "odict_keys(['loss', 'logits'])\n",
      "odict_keys(['loss', 'logits'])\n",
      "odict_keys(['loss', 'logits'])\n",
      "odict_keys(['loss', 'logits'])\n",
      "odict_keys(['loss', 'logits'])\n",
      "odict_keys(['loss', 'logits'])\n",
      "odict_keys(['loss', 'logits'])\n",
      "odict_keys(['loss', 'logits'])\n",
      "odict_keys(['loss', 'logits'])\n",
      "odict_keys(['loss', 'logits'])\n",
      "odict_keys(['loss', 'logits'])\n",
      "odict_keys(['loss', 'logits'])\n",
      "odict_keys(['loss', 'logits'])\n",
      "odict_keys(['loss', 'logits'])\n",
      "odict_keys(['loss', 'logits'])\n",
      "odict_keys(['loss', 'logits'])\n",
      "odict_keys(['loss', 'logits'])\n",
      "odict_keys(['loss', 'logits'])\n",
      "odict_keys(['loss', 'logits'])\n",
      "odict_keys(['loss', 'logits'])\n",
      "odict_keys(['loss', 'logits'])\n",
      "odict_keys(['loss', 'logits'])\n",
      "odict_keys(['loss', 'logits'])\n",
      "odict_keys(['loss', 'logits'])\n",
      "odict_keys(['loss', 'logits'])\n",
      "odict_keys(['loss', 'logits'])\n",
      "odict_keys(['loss', 'logits'])\n",
      "odict_keys(['loss', 'logits'])\n",
      "odict_keys(['loss', 'logits'])\n",
      "odict_keys(['loss', 'logits'])\n",
      "odict_keys(['loss', 'logits'])\n",
      "odict_keys(['loss', 'logits'])\n",
      "odict_keys(['loss', 'logits'])\n",
      "odict_keys(['loss', 'logits'])\n",
      "odict_keys(['loss', 'logits'])\n",
      "odict_keys(['loss', 'logits'])\n",
      "odict_keys(['loss', 'logits'])\n",
      "odict_keys(['loss', 'logits'])\n",
      "odict_keys(['loss', 'logits'])\n",
      "odict_keys(['loss', 'logits'])\n",
      "odict_keys(['loss', 'logits'])\n",
      "odict_keys(['loss', 'logits'])\n",
      "odict_keys(['loss', 'logits'])\n",
      "odict_keys(['loss', 'logits'])\n",
      "odict_keys(['loss', 'logits'])\n",
      "odict_keys(['loss', 'logits'])\n",
      "odict_keys(['loss', 'logits'])\n",
      "odict_keys(['loss', 'logits'])\n",
      "odict_keys(['loss', 'logits'])\n",
      "odict_keys(['loss', 'logits'])\n",
      "odict_keys(['loss', 'logits'])\n",
      "odict_keys(['loss', 'logits'])\n",
      "odict_keys(['loss', 'logits'])\n",
      "odict_keys(['loss', 'logits'])\n",
      "odict_keys(['loss', 'logits'])\n",
      "odict_keys(['loss', 'logits'])\n",
      "odict_keys(['loss', 'logits'])\n",
      "odict_keys(['loss', 'logits'])\n",
      "odict_keys(['loss', 'logits'])\n",
      "odict_keys(['loss', 'logits'])\n",
      "odict_keys(['loss', 'logits'])\n",
      "odict_keys(['loss', 'logits'])\n",
      "odict_keys(['loss', 'logits'])\n",
      "odict_keys(['loss', 'logits'])\n",
      "odict_keys(['loss', 'logits'])\n",
      "odict_keys(['loss', 'logits'])\n",
      "odict_keys(['loss', 'logits'])\n",
      "odict_keys(['loss', 'logits'])\n",
      "odict_keys(['loss', 'logits'])\n",
      "odict_keys(['loss', 'logits'])\n",
      "odict_keys(['loss', 'logits'])\n",
      "odict_keys(['loss', 'logits'])\n",
      "odict_keys(['loss', 'logits'])\n",
      "odict_keys(['loss', 'logits'])\n",
      "odict_keys(['loss', 'logits'])\n",
      "odict_keys(['loss', 'logits'])\n",
      "odict_keys(['loss', 'logits'])\n",
      "odict_keys(['loss', 'logits'])\n",
      "odict_keys(['loss', 'logits'])\n",
      "odict_keys(['loss', 'logits'])\n",
      "odict_keys(['loss', 'logits'])\n",
      "odict_keys(['loss', 'logits'])\n",
      "odict_keys(['loss', 'logits'])\n",
      "odict_keys(['loss', 'logits'])\n",
      "odict_keys(['loss', 'logits'])\n",
      "odict_keys(['loss', 'logits'])\n",
      "odict_keys(['loss', 'logits'])\n",
      "odict_keys(['loss', 'logits'])\n",
      "odict_keys(['loss', 'logits'])\n",
      "odict_keys(['loss', 'logits'])\n",
      "odict_keys(['loss', 'logits'])\n",
      "odict_keys(['loss', 'logits'])\n",
      "odict_keys(['loss', 'logits'])\n",
      "odict_keys(['loss', 'logits'])\n",
      "odict_keys(['loss', 'logits'])\n",
      "odict_keys(['loss', 'logits'])\n",
      "odict_keys(['loss', 'logits'])\n",
      "odict_keys(['loss', 'logits'])\n",
      "odict_keys(['loss', 'logits'])\n",
      "odict_keys(['loss', 'logits'])\n",
      "odict_keys(['loss', 'logits'])\n",
      "odict_keys(['loss', 'logits'])\n",
      "odict_keys(['loss', 'logits'])\n",
      "odict_keys(['loss', 'logits'])\n",
      "odict_keys(['loss', 'logits'])\n",
      "odict_keys(['loss', 'logits'])\n",
      "odict_keys(['loss', 'logits'])\n",
      "odict_keys(['loss', 'logits'])\n",
      "odict_keys(['loss', 'logits'])\n",
      "odict_keys(['loss', 'logits'])\n",
      "odict_keys(['loss', 'logits'])\n",
      "odict_keys(['loss', 'logits'])\n",
      "odict_keys(['loss', 'logits'])\n",
      "odict_keys(['loss', 'logits'])\n",
      "odict_keys(['loss', 'logits'])\n",
      "odict_keys(['loss', 'logits'])\n",
      "odict_keys(['loss', 'logits'])\n",
      "odict_keys(['loss', 'logits'])\n",
      "odict_keys(['loss', 'logits'])\n",
      "odict_keys(['loss', 'logits'])\n",
      "odict_keys(['loss', 'logits'])\n",
      "odict_keys(['loss', 'logits'])\n",
      "odict_keys(['loss', 'logits'])\n",
      "odict_keys(['loss', 'logits'])\n",
      "odict_keys(['loss', 'logits'])\n",
      "odict_keys(['loss', 'logits'])\n",
      "odict_keys(['loss', 'logits'])\n",
      "odict_keys(['loss', 'logits'])\n",
      "odict_keys(['loss', 'logits'])\n",
      "odict_keys(['loss', 'logits'])\n",
      "odict_keys(['loss', 'logits'])\n",
      "odict_keys(['loss', 'logits'])\n",
      "odict_keys(['loss', 'logits'])\n",
      "odict_keys(['loss', 'logits'])\n",
      "odict_keys(['loss', 'logits'])\n",
      "odict_keys(['loss', 'logits'])\n",
      "odict_keys(['loss', 'logits'])\n",
      "odict_keys(['loss', 'logits'])\n",
      "odict_keys(['loss', 'logits'])\n",
      "odict_keys(['loss', 'logits'])\n",
      "odict_keys(['loss', 'logits'])\n",
      "odict_keys(['loss', 'logits'])\n",
      "odict_keys(['loss', 'logits'])\n",
      "odict_keys(['loss', 'logits'])\n",
      "odict_keys(['loss', 'logits'])\n",
      "odict_keys(['loss', 'logits'])\n",
      "odict_keys(['loss', 'logits'])\n",
      "odict_keys(['loss', 'logits'])\n",
      "odict_keys(['loss', 'logits'])\n",
      "odict_keys(['loss', 'logits'])\n",
      "odict_keys(['loss', 'logits'])\n",
      "odict_keys(['loss', 'logits'])\n",
      "odict_keys(['loss', 'logits'])\n",
      "odict_keys(['loss', 'logits'])\n",
      "odict_keys(['loss', 'logits'])\n",
      "odict_keys(['loss', 'logits'])\n",
      "odict_keys(['loss', 'logits'])\n",
      "odict_keys(['loss', 'logits'])\n",
      "odict_keys(['loss', 'logits'])\n",
      "odict_keys(['loss', 'logits'])\n",
      "odict_keys(['loss', 'logits'])\n",
      "odict_keys(['loss', 'logits'])\n",
      "odict_keys(['loss', 'logits'])\n",
      "odict_keys(['loss', 'logits'])\n",
      "odict_keys(['loss', 'logits'])\n",
      "odict_keys(['loss', 'logits'])\n",
      "odict_keys(['loss', 'logits'])\n",
      "odict_keys(['loss', 'logits'])\n",
      "odict_keys(['loss', 'logits'])\n",
      "odict_keys(['loss', 'logits'])\n",
      "odict_keys(['loss', 'logits'])\n",
      "odict_keys(['loss', 'logits'])\n",
      "odict_keys(['loss', 'logits'])\n",
      "odict_keys(['loss', 'logits'])\n",
      "odict_keys(['loss', 'logits'])\n",
      "odict_keys(['loss', 'logits'])\n",
      "odict_keys(['loss', 'logits'])\n",
      "odict_keys(['loss', 'logits'])\n",
      "odict_keys(['loss', 'logits'])\n",
      "odict_keys(['loss', 'logits'])\n",
      "odict_keys(['loss', 'logits'])\n",
      "odict_keys(['loss', 'logits'])\n",
      "odict_keys(['loss', 'logits'])\n",
      "odict_keys(['loss', 'logits'])\n",
      "odict_keys(['loss', 'logits'])\n",
      "odict_keys(['loss', 'logits'])\n",
      "odict_keys(['loss', 'logits'])\n",
      "odict_keys(['loss', 'logits'])\n",
      "odict_keys(['loss', 'logits'])\n",
      "odict_keys(['loss', 'logits'])\n",
      "odict_keys(['loss', 'logits'])\n",
      "odict_keys(['loss', 'logits'])\n",
      "odict_keys(['loss', 'logits'])\n",
      "odict_keys(['loss', 'logits'])\n",
      "odict_keys(['loss', 'logits'])\n",
      "odict_keys(['loss', 'logits'])\n",
      "odict_keys(['loss', 'logits'])\n",
      "odict_keys(['loss', 'logits'])\n",
      "Test Accuracy: 0.775\n"
     ]
    }
   ],
   "source": [
    "from sklearn.metrics import accuracy_score\n",
    "\n",
    "model.eval()\n",
    "all_preds, all_trues = [], []\n",
    "\n",
    "for data in testing_loader:\n",
    "    data = {k: v.to(device) for k, v in data.items()}\n",
    "    with torch.no_grad():\n",
    "        output = model(data[\"ids\"], attention_mask=data[\"mask\"], labels=data[\"tags\"])\n",
    "    loss = output[0]\n",
    "    logits = output[1].detach().cpu()\n",
    "    mask = data[\"mask\"].cpu()\n",
    "    \n",
    "    print(output.keys())\n",
    "    \n",
    "    label_ids = data[\"tags\"].cpu()\n",
    "    pred_ids = torch.argmax(logits, dim=-1)\n",
    "\n",
    "    for i in range(pred_ids.shape[0]):\n",
    "        # remove pad predictions\n",
    "        pred_ids_non_pad = pred_ids[i, mask[i]]\n",
    "        label_ids_non_pad = label_ids[i, mask[i]]\n",
    "        all_preds.append(pred_ids_non_pad)\n",
    "        all_trues.append(label_ids_non_pad)\n",
    "    \n",
    "    break\n",
    "\n",
    "all_preds = torch.cat(all_preds)\n",
    "all_trues = torch.cat(all_trues)\n",
    "accuracy = accuracy_score(all_trues, all_preds)\n",
    "print(\"Test Accuracy:\", round(accuracy, 3))"
   ]
  },
  {
   "cell_type": "code",
   "execution_count": 79,
   "id": "1f8ff99f-ae10-4315-8d83-d0569d7390e5",
   "metadata": {
    "tags": []
   },
   "outputs": [
    {
     "name": "stderr",
     "output_type": "stream",
     "text": [
      "UndefinedMetricWarning: Precision and F-score are ill-defined and being set to 0.0 in labels with no predicted samples. Use `zero_division` parameter to control this behavior.\n"
     ]
    },
    {
     "name": "stdout",
     "output_type": "stream",
     "text": [
      "              precision    recall  f1-score   support\n",
      "\n",
      "           0       0.00      0.00      0.00       171\n",
      "           1       0.00      0.00      0.00        94\n",
      "           2       0.00      0.00      0.00      1875\n",
      "           3       0.07      0.36      0.12      2645\n",
      "           4       0.00      0.00      0.00     37345\n",
      "           5       0.00      0.00      0.00        16\n",
      "           6       0.00      0.00      0.00       845\n",
      "           7       0.95      0.99      0.97    490765\n",
      "           8       0.00      0.00      0.00      8967\n",
      "           9       0.28      0.94      0.43     47144\n",
      "          10       0.00      0.00      0.00     41665\n",
      "          11       0.00      0.00      0.00       267\n",
      "          13       0.00      0.00      0.00       452\n",
      "          14       0.00      0.00      0.00        11\n",
      "          15       0.00      0.00      0.00     53275\n",
      "          16       0.00      0.00      0.00       263\n",
      "\n",
      "    accuracy                           0.78    685800\n",
      "   macro avg       0.08      0.14      0.09    685800\n",
      "weighted avg       0.70      0.78      0.72    685800\n",
      "\n"
     ]
    },
    {
     "name": "stderr",
     "output_type": "stream",
     "text": [
      "UndefinedMetricWarning: Precision and F-score are ill-defined and being set to 0.0 in labels with no predicted samples. Use `zero_division` parameter to control this behavior.\n",
      "UndefinedMetricWarning: Precision and F-score are ill-defined and being set to 0.0 in labels with no predicted samples. Use `zero_division` parameter to control this behavior.\n"
     ]
    }
   ],
   "source": [
    "from sklearn.metrics import classification_report, confusion_matrix, ConfusionMatrixDisplay\n",
    "print(classification_report(all_trues, all_preds))"
   ]
  },
  {
   "cell_type": "code",
   "execution_count": 82,
   "id": "07c175f1-5ddf-4e1a-96b5-b97f7b014191",
   "metadata": {
    "tags": []
   },
   "outputs": [
    {
     "data": {
      "text/plain": [
       "{'I-tim': 0,\n",
       " 'I-gpe': 1,\n",
       " 'I-org': 2,\n",
       " 'I-per': 3,\n",
       " 'B-org': 4,\n",
       " 'I-nat': 5,\n",
       " 'I-geo': 6,\n",
       " 'O': 7,\n",
       " 'B-tim': 8,\n",
       " 'B-geo': 9,\n",
       " 'B-gpe': 10,\n",
       " 'B-nat': 11,\n",
       " 'I-eve': 12,\n",
       " 'B-art': 13,\n",
       " 'I-art': 14,\n",
       " 'B-per': 15,\n",
       " 'B-eve': 16}"
      ]
     },
     "execution_count": 82,
     "metadata": {},
     "output_type": "execute_result"
    }
   ],
   "source": [
    "tag2idx"
   ]
  },
  {
   "cell_type": "code",
   "execution_count": 91,
   "id": "1f493155-2819-4194-9c20-7b452ab0647e",
   "metadata": {
    "tags": []
   },
   "outputs": [
    {
     "data": {
      "image/png": "[encoded data removed]",
      "text/plain": [
       "<Figure size 720x720 with 2 Axes>"
      ]
     },
     "metadata": {
      "needs_background": "light"
     },
     "output_type": "display_data"
    }
   ],
   "source": [
    "fig, ax = plt.subplots(figsize=(10, 10))\n",
    "cm = confusion_matrix(all_trues, all_preds, labels=list(tag2idx.values()))\n",
    "disp = ConfusionMatrixDisplay(confusion_matrix=cm, display_labels=list(tag2idx.values()))\n",
    "disp.plot(ax=ax)\n",
    "# plt.grid(None)\n",
    "plt.show()"
   ]
  },
  {
   "cell_type": "markdown",
   "id": "cfca4d31-b17c-4f3a-9f18-47b39cbb9f7c",
   "metadata": {
    "tags": []
   },
   "source": [
    "<h2> \n",
    "    <span style=\"color:red;\">\n",
    "        Model Explanability </span>\n",
    "    </h2>\n"
   ]
  },
  {
   "cell_type": "code",
   "execution_count": 66,
   "id": "c5b51a8a-3a55-45b5-acd0-5558e3bc35c6",
   "metadata": {
    "tags": []
   },
   "outputs": [
    {
     "name": "stderr",
     "output_type": "stream",
     "text": [
      "2023-09-09 16:58:00.316027: I tensorflow/core/platform/cpu_feature_guard.cc:193] This TensorFlow binary is optimized with oneAPI Deep Neural Network Library (oneDNN) to use the following CPU instructions in performance-critical operations:  AVX2 FMA\n",
      "To enable them in other operations, rebuild TensorFlow with the appropriate compiler flags.\n",
      "2023-09-09 16:58:01.225709: W tensorflow/compiler/xla/stream_executor/platform/default/dso_loader.cc:64] Could not load dynamic library 'libnvinfer.so.7'; dlerror: libnvinfer.so.7: cannot open shared object file: No such file or directory; LD_LIBRARY_PATH: :/home/ionelia/.mujoco/mjpro150/bin\n",
      "2023-09-09 16:58:01.225815: W tensorflow/compiler/xla/stream_executor/platform/default/dso_loader.cc:64] Could not load dynamic library 'libnvinfer_plugin.so.7'; dlerror: libnvinfer_plugin.so.7: cannot open shared object file: No such file or directory; LD_LIBRARY_PATH: :/home/ionelia/.mujoco/mjpro150/bin\n",
      "2023-09-09 16:58:01.225823: W tensorflow/compiler/tf2tensorrt/utils/py_utils.cc:38] TF-TRT Warning: Cannot dlopen some TensorRT libraries. If you would like to use Nvidia GPU with TensorRT, please make sure the missing libraries mentioned above are installed properly.\n"
     ]
    }
   ],
   "source": [
    "import eli5"
   ]
  },
  {
   "cell_type": "code",
   "execution_count": 68,
   "id": "356e053f-741c-4735-aa07-de5b0ff0657d",
   "metadata": {
    "tags": []
   },
   "outputs": [
    {
     "data": {
      "text/plain": [
       "BertForTokenClassification(\n",
       "  (bert): BertModel(\n",
       "    (embeddings): BertEmbeddings(\n",
       "      (word_embeddings): Embedding(30522, 128, padding_idx=0)\n",
       "      (position_embeddings): Embedding(512, 128)\n",
       "      (token_type_embeddings): Embedding(2, 128)\n",
       "      (LayerNorm): LayerNorm((128,), eps=1e-12, elementwise_affine=True)\n",
       "      (dropout): Dropout(p=0.1, inplace=False)\n",
       "    )\n",
       "    (encoder): BertEncoder(\n",
       "      (layer): ModuleList(\n",
       "        (0): BertLayer(\n",
       "          (attention): BertAttention(\n",
       "            (self): BertSelfAttention(\n",
       "              (query): Linear(in_features=128, out_features=128, bias=True)\n",
       "              (key): Linear(in_features=128, out_features=128, bias=True)\n",
       "              (value): Linear(in_features=128, out_features=128, bias=True)\n",
       "              (dropout): Dropout(p=0.1, inplace=False)\n",
       "            )\n",
       "            (output): BertSelfOutput(\n",
       "              (dense): Linear(in_features=128, out_features=128, bias=True)\n",
       "              (LayerNorm): LayerNorm((128,), eps=1e-12, elementwise_affine=True)\n",
       "              (dropout): Dropout(p=0.1, inplace=False)\n",
       "            )\n",
       "          )\n",
       "          (intermediate): BertIntermediate(\n",
       "            (dense): Linear(in_features=128, out_features=512, bias=True)\n",
       "            (intermediate_act_fn): GELUActivation()\n",
       "          )\n",
       "          (output): BertOutput(\n",
       "            (dense): Linear(in_features=512, out_features=128, bias=True)\n",
       "            (LayerNorm): LayerNorm((128,), eps=1e-12, elementwise_affine=True)\n",
       "            (dropout): Dropout(p=0.1, inplace=False)\n",
       "          )\n",
       "        )\n",
       "        (1): BertLayer(\n",
       "          (attention): BertAttention(\n",
       "            (self): BertSelfAttention(\n",
       "              (query): Linear(in_features=128, out_features=128, bias=True)\n",
       "              (key): Linear(in_features=128, out_features=128, bias=True)\n",
       "              (value): Linear(in_features=128, out_features=128, bias=True)\n",
       "              (dropout): Dropout(p=0.1, inplace=False)\n",
       "            )\n",
       "            (output): BertSelfOutput(\n",
       "              (dense): Linear(in_features=128, out_features=128, bias=True)\n",
       "              (LayerNorm): LayerNorm((128,), eps=1e-12, elementwise_affine=True)\n",
       "              (dropout): Dropout(p=0.1, inplace=False)\n",
       "            )\n",
       "          )\n",
       "          (intermediate): BertIntermediate(\n",
       "            (dense): Linear(in_features=128, out_features=512, bias=True)\n",
       "            (intermediate_act_fn): GELUActivation()\n",
       "          )\n",
       "          (output): BertOutput(\n",
       "            (dense): Linear(in_features=512, out_features=128, bias=True)\n",
       "            (LayerNorm): LayerNorm((128,), eps=1e-12, elementwise_affine=True)\n",
       "            (dropout): Dropout(p=0.1, inplace=False)\n",
       "          )\n",
       "        )\n",
       "      )\n",
       "    )\n",
       "  )\n",
       "  (dropout): Dropout(p=0.1, inplace=False)\n",
       "  (classifier): Linear(in_features=128, out_features=17, bias=True)\n",
       ")"
      ]
     },
     "execution_count": 68,
     "metadata": {},
     "output_type": "execute_result"
    }
   ],
   "source": [
    "model"
   ]
  }
 ],
 "metadata": {
  "kernelspec": {
   "display_name": "Python 3 (ipykernel)",
   "language": "python",
   "name": "python3"
  },
  "language_info": {
   "codemirror_mode": {
    "name": "ipython",
    "version": 3
   },
   "file_extension": ".py",
   "mimetype": "text/x-python",
   "name": "python",
   "nbconvert_exporter": "python",
   "pygments_lexer": "ipython3",
   "version": "3.7.17"
  }
 },
 "nbformat": 4,
 "nbformat_minor": 5
}
